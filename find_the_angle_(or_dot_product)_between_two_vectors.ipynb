{
  "cells": [
    {
      "attachments": {},
      "cell_type": "markdown",
      "metadata": {},
      "source": [
        "###   Calculate the angle between two vectors\n",
        "\n",
        "* Given he Vectors \n",
        "$$\n",
        "\\vec{v}_{1} = \\begin{bmatrix}5\\\\9\\\\\\text{-1}\\\\0\\end{bmatrix}, \\vec{v}_{2} = \\begin{bmatrix}7\\\\3\\\\9\\\\1\\end{bmatrix}\n",
        "$$\n",
        "\n",
        "The dot product of these vectors is given byn the following formula:\n",
        "\n",
        "* Dot product:\n",
        "$$\n",
        "\\vec{v}_1\\vec{v}_{2} = ||\\vec{v}_{1}||\\cdot||\\vec{v}_{2}|| \\cdot cos\\theta \\\\[0.5in]\n",
        "$$\n",
        "\n",
        "$$\n",
        "\\vec{v}_1\\vec{v}_{2} = ||\\begin{bmatrix}5\\\\9\\\\\\text{-1}\\\\0\\end{bmatrix}|| \\cdot ||\\begin{bmatrix}7\\\\3\\\\9\\\\1\\end{bmatrix}|| \\cdot cos\\theta\n",
        "$$\n",
        "\n",
        "* The Angle (Theta) between these two vectors can be calculated in the following way:\n",
        "$$\n",
        "\\theta = arcos(\\frac{\\vec{v}\\cdot\\vec{w}}{||\\vec{v}||\\cdot||\\vec{w}||}) \\\\[0.5in]\n",
        "$$\n",
        "\n",
        "$$\n",
        "\\theta = arcos(\\frac{\\begin{bmatrix}5\\\\9\\\\\\text{-1}\\\\0\\end{bmatrix} \\cdot \\begin{bmatrix}7\\\\3\\\\9\\\\1\\end{bmatrix}}{||\\begin{bmatrix}5\\\\9\\\\\\text{-1}\\\\0\\end{bmatrix}|| \\cdot ||\\begin{bmatrix}7\\\\3\\\\9\\\\1\\end{bmatrix}||}\\\\[0.5in]\n",
        "$$\n",
        "\n",
        "$$\n",
        "\\theta = arcos(\\frac{5 \\cdot 7 + 9 \\cdot 3 + (-1) \\cdot 9 + 0 \\cdot 1}{\\sqrt{5^2 + 9^2 + (-1)^2 + 0^2} \\cdot \\sqrt{7^2 + 3^2 + 9^2 + 1^2}})\\\\[0.5in]\n",
        "$$\n",
        "\n",
        "$$\n",
        "\\theta = arcos(\\frac{53}{\\sqrt{107} \\cdot \\sqrt{140}})\\\\[0.5in]\n",
        "$$\n",
        "\n",
        "$$\n",
        "\\theta = arcos(\\frac{53}{\\sqrt{14980}})\n",
        "$$"
      ]
    },
    {
      "cell_type": "code",
      "execution_count": null,
      "metadata": {},
      "outputs": [],
      "source": [
        "import numpy as np\n",
        "\n",
        "v1 = np.array([5, 9, -1, 0]).T\n",
        "v2 = np.array([7, 3, 9, 1]).T\n",
        "\n",
        "result = np.matmul(v1, v2)\n",
        "\n",
        "norm_v1 = np.linalg.norm(v1)\n",
        "norm_v2 = np.linalg.norm(v2)\n",
        "\n",
        "angle = np.arccos(result / (norm_v1 * norm_v2))\n",
        "print('Angle in Radians: '+ str(angle))\n",
        "print('Angle in Degrees: '+ str(np.degrees(angle)))"
      ]
    },
    {
      "cell_type": "markdown",
      "metadata": {},
      "source": [
        "Result:\n",
        "\n",
        "$52.0148327°$"
      ]
    }
  ],
  "metadata": {
    "anaconda-cloud": {},
    "kernelspec": {
      "display_name": "Python 3",
      "language": "python",
      "name": "python3"
    },
    "language_info": {
      "codemirror_mode": {
        "name": "ipython",
        "version": 3
      },
      "file_extension": ".py",
      "mimetype": "text/x-python",
      "name": "python",
      "nbconvert_exporter": "python",
      "pygments_lexer": "ipython3",
      "version": "3.6.1"
    }
  },
  "nbformat": 4,
  "nbformat_minor": 4
}
